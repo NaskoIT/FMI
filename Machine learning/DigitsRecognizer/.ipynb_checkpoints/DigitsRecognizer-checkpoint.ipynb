{
 "cells": [
  {
   "cell_type": "code",
   "execution_count": 2,
   "id": "b63b6b11-e24f-4f1e-b715-98ed27c5a975",
   "metadata": {},
   "outputs": [],
   "source": [
    "%matplotlib inline"
   ]
  },
  {
   "cell_type": "code",
   "execution_count": 3,
   "id": "007b1350-8d5d-4446-84d7-206f70e1a244",
   "metadata": {},
   "outputs": [],
   "source": [
    "import numpy as np\n",
    "import pandas as pd\n",
    "import matplotlib.pyplot as plt\n",
    "import seaborn as sns\n",
    "np.random.seed(24680)"
   ]
  },
  {
   "cell_type": "code",
   "execution_count": 4,
   "id": "c60aefc6-c97a-414a-ab48-668769f55dd2",
   "metadata": {},
   "outputs": [],
   "source": [
    "from sklearn import preprocessing\n",
    "from sklearn.model_selection import train_test_split, KFold, GridSearchCV, cross_val_score\n",
    "from sklearn.metrics import confusion_matrix, classification_report\n",
    "\n",
    "from joblib import dump, load\n",
    "\n",
    "from sklearn.preprocessing import MinMaxScaler\n",
    "from sklearn.decomposition import PCA\n",
    "from sklearn.neighbors import KNeighborsClassifier\n",
    "\n",
    "from time import time\n",
    "\n",
    "from sklearn.linear_model import LogisticRegression\n",
    "from sklearn.tree import DecisionTreeClassifier\n",
    "from sklearn.ensemble import RandomForestClassifier, AdaBoostClassifier\n",
    "from sklearn.svm import LinearSVC, SVC"
   ]
  },
  {
   "cell_type": "markdown",
   "id": "13bc7702-29c7-4a08-850a-9b9ffecefc4f",
   "metadata": {},
   "source": [
    "# Digits recognizer\n",
    "### Разпознаване на ръчно написани цифри чрез алгоритми за машинно обучение (PCA, K-Nearest Neighbors, Logistic Regression and SVM)"
   ]
  },
  {
   "cell_type": "markdown",
   "id": "957cdd22-22cd-4eee-a2b7-5691d513ca2d",
   "metadata": {},
   "source": [
    "### Увод\n",
    "Проектът е фокусиран върху разпознаването на ръчно написани цифри. Идея е да създадем модел, който е способен с висока точност да идентифицира цифри от изображения. Този модел може да се приложи в следните сфери:\n",
    "\n",
    "- \tБанкови услуги Автоматично разпознаване на ръчно попълнени чекове и формуляри за по-ефективни финансови транзакци\n",
    "- Медицина - Разпознаване на ръчно написани бележки и рецепти, улеснявайки процесите на документация и управление на пациентски дан\n",
    "- Образованиен - Разпознаване на ръчно написани отговори на тестове и домашни работи за по-бърза и ефективна оцен  \r\n",
    "\n"
   ]
  },
  {
   "cell_type": "markdown",
   "id": "359a59fb-6f64-421c-a1b9-e035561be30a",
   "metadata": {},
   "source": [
    "Моделът приема снимка, на която има ръчно написана цифра и разпознава коя е цифрата.\n",
    "\n",
    "В този проект ще проучим колко добре различни популярни алгоритми за машинно обучение обработват многомерни данни (снимката я представяме като двумерен масив). Извършваме Principal Component Analysis върху характеристиките, за да намалим размерността и ускорим обучението на моделите. В този случай PCA се използва като техника за избор на характеристики, за да се намали размерността и така да улесни Gaussian SVM алгоритъма да извърши задачата по класификацията на ръчно писани цифри.\r\n",
    "Ще видим, че най-добрият модел по отношение на точността върху тестовия набор от данни е Gaussian SVM с 98%, въпреки че обучението му е доста бавно. Не много далеч с точност от 97% върху тестовия набор е методът на K-Nearest Neighbors, който е много по-бърз за обучение. Логистичната регресия е най-бързата за обучение, но достига само 90% точност. Останалите алгоритми (Decision Tree, Random Forrest, AdaBoost and LinearSVC) се справят по-слабо по отношение на точността в метриките за cross-validation. \r\n"
   ]
  },
  {
   "cell_type": "markdown",
   "id": "0624cdd3-87e1-472b-b2ea-b17f91d6d691",
   "metadata": {},
   "source": [
    "### Преглед на областa на разпознаване на ръчно написани символи \n",
    "В областта на разпознаването на ръчно написани символи, наблюдаваме активен напредък като се използват различни подходи и техники. Изследванията включват не само традиционни методи, но и иновации, фокусирани върху машинното обучение и невронните мрежи.\n",
    "\r\n",
    "Невронните мрежи изпъкват като ключов инструмент за постигане на висока точност и ефективност. Различни архитектури като конволюционни невронни мрежи (CNN) се използват за подобряване на способностите за разпознаване на различни стилове на ръкопис. Трансферното обучение с невронни мрежи се проучва за увеличаване на темповете на обучение и адаптиране към различни стилове на писане. Рекурентните невронни мрежи (RNN) от своя страна подобряват разпознаването на последователни и свързани символи\n",
    ".\r\n",
    "Тези иновации представляват ключов фактор за постигане на висока прецизност в разпознаването на ръчно написани цифри. Нашият проект се насочва към интегриране на тези напредъци в създаването на модел, който не само отговаря на изискванията на различни бизнес сфери, където разпознаването на ръчно написани символи е от съществено значение, но и предоставя иновативни решения за бъдещет\n",
    "о.\r\n",
    "Текущото състояние на тази област показва нарастващ интерес и приложения във всички сфери на бизнеса, като търсенето на ефективни решения за разпознаване на ръчно написани символи продължава да расте.\r\n",
    "В областта се използват и различни видове алгоритми за машинно обучение за справяне с предизвикателствата. Цялостно се прилагат различни технологии и иновации, за да се подобряват вече съществуващи модели и разпознаването на ръчно написан текст да става все по-точо. \r\n"
   ]
  },
  {
   "cell_type": "markdown",
   "id": "9528e8cf-b6d0-4b20-9d00-f9a2e0197471",
   "metadata": {},
   "source": [
    "## Данни\n",
    "- Използваме данни от [Kaggle](https://www.kaggle.com/c/digit-recognizer/data)\n",
    "- Оригиналният dataset на ръчно написани цифри включва обучителен набор от 60,000 примера и тестов набор от 10,000 примера\n",
    "- Kaggle dataset съдържа два файла - train.csv и test.csv - и двата съдържат ръчно написани цифри от нула до девет\n",
    "- Всяка картинка е **28** пиксела висока и **28** пиксела широка, което прави общо **784** пиксела\n",
    "- **Всеки пиксел има единична стойност, която показва колко е светъл или тъмен този пиксел, като по-големите числа означават по-тъмни. Тази стойност е цяло число между 0 и 255, включително**\n",
    "- Обучителният dataset (train.csv) има 785 колони. Първата колона, наречена \"label\", е цифрата, нарисувана от потребителя. Останалите колони съдържат стойностите на пикселите на съответната картинка. Файлът съдържа **42,000 наблюдения**\n",
    "- Всяка колона с пиксели в обучителния набор има име като pixel_x, където x е цяло число между 0 и 783, включително. За да намерите този пиксел на картинката, предположете, че сте разложили x като x = i * 28 + j, където i и j са цели числа между 0 и 27, включително. Тогава pixel_x се намира в ред i и колона j на матрица 28 x 28 (индексиране от нула)\n",
    "    - Например, pixel_32 показва пиксела, който е в петата колона от ляво и втория ред отгоре\n",
    "- Тестовият dataset (test.csv) е същият като обучителния, с изключение на това, че не съдържа колоната \"label\"\n",
    "- Ще използваме само train.csv, за да можем да разделим данните сами"
   ]
  },
  {
   "cell_type": "markdown",
   "id": "dd98f038-0964-427c-a864-1310b06c7ab7",
   "metadata": {},
   "source": [
    "### Работен процес\n",
    "1.\tЩе отделим характеристиките (features) от етикетите (labels)\r\n",
    "2.\tНа второ място, ще скалираме характеристиките (features), така че да можем да приложим PCA – превръщаме стойността на всяка колона в диапазона от 0 до 1 използвайки MixMaxScaler\r\n",
    "3.\tИзвършваме PCA\r\n",
    "4.\tРазделяме набора данни на 2 части - обучаващ и тестов поднабор\r\n",
    "5.\tИзползваме обучаващия набор, за да оценим средната точност при cross-validation на няколко алгоритъма и да изберем три най-добре представящи се. Тестваме Decision Trees, Random Forests, AdaBoost, Logistic Regression, Linear SVM, Gaussian SVM, K-Nearest Neighbors. Избираме три с най-висока средна точност при крос валидация\r\n",
    "6.\tИзвършваме grid search върху трите алгоритъма, които са в краткия списък, с цел да ги подобрим\r\n",
    "7.\tТестваме моделиte върху тестовия набор\r\n",
    "8.\tЗапазваме обучените модели като файлове за бъдещи корекции и също така запазваме Excel файл с някои важни параметри на трите модела, което позволява последващи анализи и, надяваме се, оптимизация.\r\n",
    "9.\tОценяваме ефективността на най-добрия алгоритъм, използвайки различен брой характеристики и повторно извършваме grid search. Извършваме PCA, за да достигнем explained variance от 60%, 70%, 80%, 90% и 95%, като по този начин получаваме различни характеристики. Повторно обучаваме най-добрия алгоритъм с различните характеристики чрез grid search, за да намерим най-добрия набор от характеристики, водещ до най-висока точност без да попадаме в сценарии на overfitting.\r\n",
    "10.\tНамираме най-добрия модел, който постига 98% точност\r\n"
   ]
  },
  {
   "cell_type": "markdown",
   "id": "290be5fd-6078-435b-b2a9-dceac294318f",
   "metadata": {},
   "source": [
    "### Дефиниране на помощни функции\n",
    "Започваме с дефиниране на някои функции, които ще бъдат често използвани. \n",
    "Ще дефинираме помощна функция **fit_model**, която ще извърши grid search върху нашите модели и ще върне речник със следната информация: \n",
    " - **model** - съдържа името на алгоритъма \n",
    "- **number_features_training** - съдържа броя на характеристиките в текущия модел \n",
    "- **explained_variance_after_pca** - показва explained variance след намаляването на размерността, извършено от PCA \n",
    "- **best_estimator** - съдържа най-добрия модел от проведения grid search\n",
    "- **best_params** - съдържа най-добрите хиперпараметри, които дават най-високите метрики (в нашия случай \"точност\")\n",
    "- **best_score** - съдържа най-високият резултат за точност\n",
    "- **time_sec** - съдържа времето за изпълнение на grid_search \n",
    "\n",
    "Този речник се добавя към списъка модели, където ще събираме гореспоменатата информация за всеки алгоритъм. Накрая ще създадем DataFrame от списъка \n",
    "с модели и ще го запазим като Excel файл. Това се извършва от помощната функция **persist_data**, която също така запазва модела.\n",
    "\n",
    "Също така дефинираме някои функции за изчертаване, които ще ни помогнат да визуализираме цифрите и матрицата по по-приятен начин."
   ]
  },
  {
   "cell_type": "code",
   "execution_count": 5,
   "id": "cdf86698-c118-4a72-81d7-2676d185aa63",
   "metadata": {},
   "outputs": [],
   "source": [
    "# performs grid search on the model\n",
    "def fit_model(model, parameters_grid, k_fold):   \n",
    "    t0 = time()    \n",
    "    grid_search = GridSearchCV(model, parameters_grid, n_jobs = 1,scoring = 'accuracy', cv = k_fold)\n",
    "    grid_search.fit(X_tr, y_tr)\n",
    "    t1 = time()-t0\n",
    "    \n",
    "    return{\"model\":model.__class__.__name__,\n",
    "           \"number_of_observations_training\":X_tr.shape[0],\n",
    "           \"number_features_training\":X_tr.shape[1],\n",
    "           \"explained_variance_after_pca\":explained_variance,\n",
    "           \"best_estimator\":grid_search.best_estimator_,\n",
    "           \"best_params\": grid_search.best_params_,\n",
    "           \"best_score\": grid_search.best_score_,\n",
    "           \"time_sec\": t1}"
   ]
  },
  {
   "cell_type": "code",
   "execution_count": 45,
   "id": "8ffac548-a4e9-4e5a-a8e2-9a60ff260dcc",
   "metadata": {},
   "outputs": [],
   "source": [
    "# saves model on the disc and best model parameters in Excel\n",
    "def persist_data(models, model_fit):\n",
    "    #save to disc model\n",
    "    filename = model_fit['model']+\".sav\"\n",
    "    dump(model_fit,filename)\n",
    "    models.append(model_fit)\n",
    "    model_df = pd.DataFrame.from_dict(models)\n",
    "    writer = pd.ExcelWriter(\"output.xlsx\")\n",
    "    model_df.to_excel(writer,'Sheet1')\n",
    "    writer.close()"
   ]
  },
  {
   "cell_type": "code",
   "execution_count": 7,
   "id": "b4cd27bd-16f3-421a-9b0e-6760d5a8a8c5",
   "metadata": {},
   "outputs": [],
   "source": [
    "# plots the confusion matrix\n",
    "def draw_confusion_marix(y_ts, predictions, score):\n",
    "    cm = confusion_matrix(y_ts, predictions)\n",
    "    plt.figure(figsize=(9,9))\n",
    "    sns.heatmap(cm, annot=True, fmt=\"\", linewidths=.5, square = True, cmap = 'Blues_r');\n",
    "    plt.ylabel('Actual label');\n",
    "    plt.xlabel('Predicted label');\n",
    "    all_sample_title = 'Accuracy Score: {0:.3%}'.format(score)\n",
    "    plt.title(all_sample_title, size = 15);"
   ]
  },
  {
   "cell_type": "markdown",
   "id": "d98fd536-3d0f-4dd7-9e30-9c84913ef5cc",
   "metadata": {},
   "source": [
    "## Зареждане и анализиране на данните"
   ]
  },
  {
   "cell_type": "code",
   "execution_count": 8,
   "id": "1f9fe90f-9841-42a1-9876-575b6ebeadf5",
   "metadata": {},
   "outputs": [],
   "source": [
    "data = pd.read_csv('data/train.csv')"
   ]
  },
  {
   "cell_type": "code",
   "execution_count": 9,
   "id": "7eaf3ea7-a5d5-4999-9902-69afdaf0f1ee",
   "metadata": {},
   "outputs": [
    {
     "data": {
      "text/html": [
       "<div>\n",
       "<style scoped>\n",
       "    .dataframe tbody tr th:only-of-type {\n",
       "        vertical-align: middle;\n",
       "    }\n",
       "\n",
       "    .dataframe tbody tr th {\n",
       "        vertical-align: top;\n",
       "    }\n",
       "\n",
       "    .dataframe thead th {\n",
       "        text-align: right;\n",
       "    }\n",
       "</style>\n",
       "<table border=\"1\" class=\"dataframe\">\n",
       "  <thead>\n",
       "    <tr style=\"text-align: right;\">\n",
       "      <th></th>\n",
       "      <th>label</th>\n",
       "      <th>pixel0</th>\n",
       "      <th>pixel1</th>\n",
       "      <th>pixel2</th>\n",
       "      <th>pixel3</th>\n",
       "      <th>pixel4</th>\n",
       "      <th>pixel5</th>\n",
       "      <th>pixel6</th>\n",
       "      <th>pixel7</th>\n",
       "      <th>pixel8</th>\n",
       "      <th>...</th>\n",
       "      <th>pixel774</th>\n",
       "      <th>pixel775</th>\n",
       "      <th>pixel776</th>\n",
       "      <th>pixel777</th>\n",
       "      <th>pixel778</th>\n",
       "      <th>pixel779</th>\n",
       "      <th>pixel780</th>\n",
       "      <th>pixel781</th>\n",
       "      <th>pixel782</th>\n",
       "      <th>pixel783</th>\n",
       "    </tr>\n",
       "  </thead>\n",
       "  <tbody>\n",
       "    <tr>\n",
       "      <th>41990</th>\n",
       "      <td>3</td>\n",
       "      <td>0</td>\n",
       "      <td>0</td>\n",
       "      <td>0</td>\n",
       "      <td>0</td>\n",
       "      <td>0</td>\n",
       "      <td>0</td>\n",
       "      <td>0</td>\n",
       "      <td>0</td>\n",
       "      <td>0</td>\n",
       "      <td>...</td>\n",
       "      <td>0</td>\n",
       "      <td>0</td>\n",
       "      <td>0</td>\n",
       "      <td>0</td>\n",
       "      <td>0</td>\n",
       "      <td>0</td>\n",
       "      <td>0</td>\n",
       "      <td>0</td>\n",
       "      <td>0</td>\n",
       "      <td>0</td>\n",
       "    </tr>\n",
       "    <tr>\n",
       "      <th>41991</th>\n",
       "      <td>1</td>\n",
       "      <td>0</td>\n",
       "      <td>0</td>\n",
       "      <td>0</td>\n",
       "      <td>0</td>\n",
       "      <td>0</td>\n",
       "      <td>0</td>\n",
       "      <td>0</td>\n",
       "      <td>0</td>\n",
       "      <td>0</td>\n",
       "      <td>...</td>\n",
       "      <td>0</td>\n",
       "      <td>0</td>\n",
       "      <td>0</td>\n",
       "      <td>0</td>\n",
       "      <td>0</td>\n",
       "      <td>0</td>\n",
       "      <td>0</td>\n",
       "      <td>0</td>\n",
       "      <td>0</td>\n",
       "      <td>0</td>\n",
       "    </tr>\n",
       "    <tr>\n",
       "      <th>41992</th>\n",
       "      <td>9</td>\n",
       "      <td>0</td>\n",
       "      <td>0</td>\n",
       "      <td>0</td>\n",
       "      <td>0</td>\n",
       "      <td>0</td>\n",
       "      <td>0</td>\n",
       "      <td>0</td>\n",
       "      <td>0</td>\n",
       "      <td>0</td>\n",
       "      <td>...</td>\n",
       "      <td>0</td>\n",
       "      <td>0</td>\n",
       "      <td>0</td>\n",
       "      <td>0</td>\n",
       "      <td>0</td>\n",
       "      <td>0</td>\n",
       "      <td>0</td>\n",
       "      <td>0</td>\n",
       "      <td>0</td>\n",
       "      <td>0</td>\n",
       "    </tr>\n",
       "    <tr>\n",
       "      <th>41993</th>\n",
       "      <td>6</td>\n",
       "      <td>0</td>\n",
       "      <td>0</td>\n",
       "      <td>0</td>\n",
       "      <td>0</td>\n",
       "      <td>0</td>\n",
       "      <td>0</td>\n",
       "      <td>0</td>\n",
       "      <td>0</td>\n",
       "      <td>0</td>\n",
       "      <td>...</td>\n",
       "      <td>0</td>\n",
       "      <td>0</td>\n",
       "      <td>0</td>\n",
       "      <td>0</td>\n",
       "      <td>0</td>\n",
       "      <td>0</td>\n",
       "      <td>0</td>\n",
       "      <td>0</td>\n",
       "      <td>0</td>\n",
       "      <td>0</td>\n",
       "    </tr>\n",
       "    <tr>\n",
       "      <th>41994</th>\n",
       "      <td>4</td>\n",
       "      <td>0</td>\n",
       "      <td>0</td>\n",
       "      <td>0</td>\n",
       "      <td>0</td>\n",
       "      <td>0</td>\n",
       "      <td>0</td>\n",
       "      <td>0</td>\n",
       "      <td>0</td>\n",
       "      <td>0</td>\n",
       "      <td>...</td>\n",
       "      <td>0</td>\n",
       "      <td>0</td>\n",
       "      <td>0</td>\n",
       "      <td>0</td>\n",
       "      <td>0</td>\n",
       "      <td>0</td>\n",
       "      <td>0</td>\n",
       "      <td>0</td>\n",
       "      <td>0</td>\n",
       "      <td>0</td>\n",
       "    </tr>\n",
       "    <tr>\n",
       "      <th>41995</th>\n",
       "      <td>0</td>\n",
       "      <td>0</td>\n",
       "      <td>0</td>\n",
       "      <td>0</td>\n",
       "      <td>0</td>\n",
       "      <td>0</td>\n",
       "      <td>0</td>\n",
       "      <td>0</td>\n",
       "      <td>0</td>\n",
       "      <td>0</td>\n",
       "      <td>...</td>\n",
       "      <td>0</td>\n",
       "      <td>0</td>\n",
       "      <td>0</td>\n",
       "      <td>0</td>\n",
       "      <td>0</td>\n",
       "      <td>0</td>\n",
       "      <td>0</td>\n",
       "      <td>0</td>\n",
       "      <td>0</td>\n",
       "      <td>0</td>\n",
       "    </tr>\n",
       "    <tr>\n",
       "      <th>41996</th>\n",
       "      <td>1</td>\n",
       "      <td>0</td>\n",
       "      <td>0</td>\n",
       "      <td>0</td>\n",
       "      <td>0</td>\n",
       "      <td>0</td>\n",
       "      <td>0</td>\n",
       "      <td>0</td>\n",
       "      <td>0</td>\n",
       "      <td>0</td>\n",
       "      <td>...</td>\n",
       "      <td>0</td>\n",
       "      <td>0</td>\n",
       "      <td>0</td>\n",
       "      <td>0</td>\n",
       "      <td>0</td>\n",
       "      <td>0</td>\n",
       "      <td>0</td>\n",
       "      <td>0</td>\n",
       "      <td>0</td>\n",
       "      <td>0</td>\n",
       "    </tr>\n",
       "    <tr>\n",
       "      <th>41997</th>\n",
       "      <td>7</td>\n",
       "      <td>0</td>\n",
       "      <td>0</td>\n",
       "      <td>0</td>\n",
       "      <td>0</td>\n",
       "      <td>0</td>\n",
       "      <td>0</td>\n",
       "      <td>0</td>\n",
       "      <td>0</td>\n",
       "      <td>0</td>\n",
       "      <td>...</td>\n",
       "      <td>0</td>\n",
       "      <td>0</td>\n",
       "      <td>0</td>\n",
       "      <td>0</td>\n",
       "      <td>0</td>\n",
       "      <td>0</td>\n",
       "      <td>0</td>\n",
       "      <td>0</td>\n",
       "      <td>0</td>\n",
       "      <td>0</td>\n",
       "    </tr>\n",
       "    <tr>\n",
       "      <th>41998</th>\n",
       "      <td>6</td>\n",
       "      <td>0</td>\n",
       "      <td>0</td>\n",
       "      <td>0</td>\n",
       "      <td>0</td>\n",
       "      <td>0</td>\n",
       "      <td>0</td>\n",
       "      <td>0</td>\n",
       "      <td>0</td>\n",
       "      <td>0</td>\n",
       "      <td>...</td>\n",
       "      <td>0</td>\n",
       "      <td>0</td>\n",
       "      <td>0</td>\n",
       "      <td>0</td>\n",
       "      <td>0</td>\n",
       "      <td>0</td>\n",
       "      <td>0</td>\n",
       "      <td>0</td>\n",
       "      <td>0</td>\n",
       "      <td>0</td>\n",
       "    </tr>\n",
       "    <tr>\n",
       "      <th>41999</th>\n",
       "      <td>9</td>\n",
       "      <td>0</td>\n",
       "      <td>0</td>\n",
       "      <td>0</td>\n",
       "      <td>0</td>\n",
       "      <td>0</td>\n",
       "      <td>0</td>\n",
       "      <td>0</td>\n",
       "      <td>0</td>\n",
       "      <td>0</td>\n",
       "      <td>...</td>\n",
       "      <td>0</td>\n",
       "      <td>0</td>\n",
       "      <td>0</td>\n",
       "      <td>0</td>\n",
       "      <td>0</td>\n",
       "      <td>0</td>\n",
       "      <td>0</td>\n",
       "      <td>0</td>\n",
       "      <td>0</td>\n",
       "      <td>0</td>\n",
       "    </tr>\n",
       "  </tbody>\n",
       "</table>\n",
       "<p>10 rows × 785 columns</p>\n",
       "</div>"
      ],
      "text/plain": [
       "       label  pixel0  pixel1  pixel2  pixel3  pixel4  pixel5  pixel6  pixel7  \\\n",
       "41990      3       0       0       0       0       0       0       0       0   \n",
       "41991      1       0       0       0       0       0       0       0       0   \n",
       "41992      9       0       0       0       0       0       0       0       0   \n",
       "41993      6       0       0       0       0       0       0       0       0   \n",
       "41994      4       0       0       0       0       0       0       0       0   \n",
       "41995      0       0       0       0       0       0       0       0       0   \n",
       "41996      1       0       0       0       0       0       0       0       0   \n",
       "41997      7       0       0       0       0       0       0       0       0   \n",
       "41998      6       0       0       0       0       0       0       0       0   \n",
       "41999      9       0       0       0       0       0       0       0       0   \n",
       "\n",
       "       pixel8  ...  pixel774  pixel775  pixel776  pixel777  pixel778  \\\n",
       "41990       0  ...         0         0         0         0         0   \n",
       "41991       0  ...         0         0         0         0         0   \n",
       "41992       0  ...         0         0         0         0         0   \n",
       "41993       0  ...         0         0         0         0         0   \n",
       "41994       0  ...         0         0         0         0         0   \n",
       "41995       0  ...         0         0         0         0         0   \n",
       "41996       0  ...         0         0         0         0         0   \n",
       "41997       0  ...         0         0         0         0         0   \n",
       "41998       0  ...         0         0         0         0         0   \n",
       "41999       0  ...         0         0         0         0         0   \n",
       "\n",
       "       pixel779  pixel780  pixel781  pixel782  pixel783  \n",
       "41990         0         0         0         0         0  \n",
       "41991         0         0         0         0         0  \n",
       "41992         0         0         0         0         0  \n",
       "41993         0         0         0         0         0  \n",
       "41994         0         0         0         0         0  \n",
       "41995         0         0         0         0         0  \n",
       "41996         0         0         0         0         0  \n",
       "41997         0         0         0         0         0  \n",
       "41998         0         0         0         0         0  \n",
       "41999         0         0         0         0         0  \n",
       "\n",
       "[10 rows x 785 columns]"
      ]
     },
     "execution_count": 9,
     "metadata": {},
     "output_type": "execute_result"
    }
   ],
   "source": [
    "data.tail(10)"
   ]
  },
  {
   "cell_type": "code",
   "execution_count": 10,
   "id": "4cf237f0-3a41-404d-a464-6db830f39487",
   "metadata": {},
   "outputs": [
    {
     "data": {
      "text/plain": [
       "(42000, 785)"
      ]
     },
     "execution_count": 10,
     "metadata": {},
     "output_type": "execute_result"
    }
   ],
   "source": [
    "data.shape"
   ]
  },
  {
   "cell_type": "code",
   "execution_count": 11,
   "id": "83d71217-df2b-41dc-b09b-e31f2ae78b10",
   "metadata": {},
   "outputs": [
    {
     "data": {
      "text/html": [
       "<div>\n",
       "<style scoped>\n",
       "    .dataframe tbody tr th:only-of-type {\n",
       "        vertical-align: middle;\n",
       "    }\n",
       "\n",
       "    .dataframe tbody tr th {\n",
       "        vertical-align: top;\n",
       "    }\n",
       "\n",
       "    .dataframe thead th {\n",
       "        text-align: right;\n",
       "    }\n",
       "</style>\n",
       "<table border=\"1\" class=\"dataframe\">\n",
       "  <thead>\n",
       "    <tr style=\"text-align: right;\">\n",
       "      <th></th>\n",
       "      <th>label</th>\n",
       "      <th>pixel0</th>\n",
       "      <th>pixel1</th>\n",
       "      <th>pixel2</th>\n",
       "      <th>pixel3</th>\n",
       "      <th>pixel4</th>\n",
       "      <th>pixel5</th>\n",
       "      <th>pixel6</th>\n",
       "      <th>pixel7</th>\n",
       "      <th>pixel8</th>\n",
       "      <th>...</th>\n",
       "      <th>pixel774</th>\n",
       "      <th>pixel775</th>\n",
       "      <th>pixel776</th>\n",
       "      <th>pixel777</th>\n",
       "      <th>pixel778</th>\n",
       "      <th>pixel779</th>\n",
       "      <th>pixel780</th>\n",
       "      <th>pixel781</th>\n",
       "      <th>pixel782</th>\n",
       "      <th>pixel783</th>\n",
       "    </tr>\n",
       "  </thead>\n",
       "  <tbody>\n",
       "    <tr>\n",
       "      <th>count</th>\n",
       "      <td>42000.000000</td>\n",
       "      <td>42000.0</td>\n",
       "      <td>42000.0</td>\n",
       "      <td>42000.0</td>\n",
       "      <td>42000.0</td>\n",
       "      <td>42000.0</td>\n",
       "      <td>42000.0</td>\n",
       "      <td>42000.0</td>\n",
       "      <td>42000.0</td>\n",
       "      <td>42000.0</td>\n",
       "      <td>...</td>\n",
       "      <td>42000.000000</td>\n",
       "      <td>42000.000000</td>\n",
       "      <td>42000.000000</td>\n",
       "      <td>42000.00000</td>\n",
       "      <td>42000.000000</td>\n",
       "      <td>42000.000000</td>\n",
       "      <td>42000.0</td>\n",
       "      <td>42000.0</td>\n",
       "      <td>42000.0</td>\n",
       "      <td>42000.0</td>\n",
       "    </tr>\n",
       "    <tr>\n",
       "      <th>mean</th>\n",
       "      <td>4.456643</td>\n",
       "      <td>0.0</td>\n",
       "      <td>0.0</td>\n",
       "      <td>0.0</td>\n",
       "      <td>0.0</td>\n",
       "      <td>0.0</td>\n",
       "      <td>0.0</td>\n",
       "      <td>0.0</td>\n",
       "      <td>0.0</td>\n",
       "      <td>0.0</td>\n",
       "      <td>...</td>\n",
       "      <td>0.219286</td>\n",
       "      <td>0.117095</td>\n",
       "      <td>0.059024</td>\n",
       "      <td>0.02019</td>\n",
       "      <td>0.017238</td>\n",
       "      <td>0.002857</td>\n",
       "      <td>0.0</td>\n",
       "      <td>0.0</td>\n",
       "      <td>0.0</td>\n",
       "      <td>0.0</td>\n",
       "    </tr>\n",
       "    <tr>\n",
       "      <th>std</th>\n",
       "      <td>2.887730</td>\n",
       "      <td>0.0</td>\n",
       "      <td>0.0</td>\n",
       "      <td>0.0</td>\n",
       "      <td>0.0</td>\n",
       "      <td>0.0</td>\n",
       "      <td>0.0</td>\n",
       "      <td>0.0</td>\n",
       "      <td>0.0</td>\n",
       "      <td>0.0</td>\n",
       "      <td>...</td>\n",
       "      <td>6.312890</td>\n",
       "      <td>4.633819</td>\n",
       "      <td>3.274488</td>\n",
       "      <td>1.75987</td>\n",
       "      <td>1.894498</td>\n",
       "      <td>0.414264</td>\n",
       "      <td>0.0</td>\n",
       "      <td>0.0</td>\n",
       "      <td>0.0</td>\n",
       "      <td>0.0</td>\n",
       "    </tr>\n",
       "    <tr>\n",
       "      <th>min</th>\n",
       "      <td>0.000000</td>\n",
       "      <td>0.0</td>\n",
       "      <td>0.0</td>\n",
       "      <td>0.0</td>\n",
       "      <td>0.0</td>\n",
       "      <td>0.0</td>\n",
       "      <td>0.0</td>\n",
       "      <td>0.0</td>\n",
       "      <td>0.0</td>\n",
       "      <td>0.0</td>\n",
       "      <td>...</td>\n",
       "      <td>0.000000</td>\n",
       "      <td>0.000000</td>\n",
       "      <td>0.000000</td>\n",
       "      <td>0.00000</td>\n",
       "      <td>0.000000</td>\n",
       "      <td>0.000000</td>\n",
       "      <td>0.0</td>\n",
       "      <td>0.0</td>\n",
       "      <td>0.0</td>\n",
       "      <td>0.0</td>\n",
       "    </tr>\n",
       "    <tr>\n",
       "      <th>25%</th>\n",
       "      <td>2.000000</td>\n",
       "      <td>0.0</td>\n",
       "      <td>0.0</td>\n",
       "      <td>0.0</td>\n",
       "      <td>0.0</td>\n",
       "      <td>0.0</td>\n",
       "      <td>0.0</td>\n",
       "      <td>0.0</td>\n",
       "      <td>0.0</td>\n",
       "      <td>0.0</td>\n",
       "      <td>...</td>\n",
       "      <td>0.000000</td>\n",
       "      <td>0.000000</td>\n",
       "      <td>0.000000</td>\n",
       "      <td>0.00000</td>\n",
       "      <td>0.000000</td>\n",
       "      <td>0.000000</td>\n",
       "      <td>0.0</td>\n",
       "      <td>0.0</td>\n",
       "      <td>0.0</td>\n",
       "      <td>0.0</td>\n",
       "    </tr>\n",
       "    <tr>\n",
       "      <th>50%</th>\n",
       "      <td>4.000000</td>\n",
       "      <td>0.0</td>\n",
       "      <td>0.0</td>\n",
       "      <td>0.0</td>\n",
       "      <td>0.0</td>\n",
       "      <td>0.0</td>\n",
       "      <td>0.0</td>\n",
       "      <td>0.0</td>\n",
       "      <td>0.0</td>\n",
       "      <td>0.0</td>\n",
       "      <td>...</td>\n",
       "      <td>0.000000</td>\n",
       "      <td>0.000000</td>\n",
       "      <td>0.000000</td>\n",
       "      <td>0.00000</td>\n",
       "      <td>0.000000</td>\n",
       "      <td>0.000000</td>\n",
       "      <td>0.0</td>\n",
       "      <td>0.0</td>\n",
       "      <td>0.0</td>\n",
       "      <td>0.0</td>\n",
       "    </tr>\n",
       "    <tr>\n",
       "      <th>75%</th>\n",
       "      <td>7.000000</td>\n",
       "      <td>0.0</td>\n",
       "      <td>0.0</td>\n",
       "      <td>0.0</td>\n",
       "      <td>0.0</td>\n",
       "      <td>0.0</td>\n",
       "      <td>0.0</td>\n",
       "      <td>0.0</td>\n",
       "      <td>0.0</td>\n",
       "      <td>0.0</td>\n",
       "      <td>...</td>\n",
       "      <td>0.000000</td>\n",
       "      <td>0.000000</td>\n",
       "      <td>0.000000</td>\n",
       "      <td>0.00000</td>\n",
       "      <td>0.000000</td>\n",
       "      <td>0.000000</td>\n",
       "      <td>0.0</td>\n",
       "      <td>0.0</td>\n",
       "      <td>0.0</td>\n",
       "      <td>0.0</td>\n",
       "    </tr>\n",
       "    <tr>\n",
       "      <th>max</th>\n",
       "      <td>9.000000</td>\n",
       "      <td>0.0</td>\n",
       "      <td>0.0</td>\n",
       "      <td>0.0</td>\n",
       "      <td>0.0</td>\n",
       "      <td>0.0</td>\n",
       "      <td>0.0</td>\n",
       "      <td>0.0</td>\n",
       "      <td>0.0</td>\n",
       "      <td>0.0</td>\n",
       "      <td>...</td>\n",
       "      <td>254.000000</td>\n",
       "      <td>254.000000</td>\n",
       "      <td>253.000000</td>\n",
       "      <td>253.00000</td>\n",
       "      <td>254.000000</td>\n",
       "      <td>62.000000</td>\n",
       "      <td>0.0</td>\n",
       "      <td>0.0</td>\n",
       "      <td>0.0</td>\n",
       "      <td>0.0</td>\n",
       "    </tr>\n",
       "  </tbody>\n",
       "</table>\n",
       "<p>8 rows × 785 columns</p>\n",
       "</div>"
      ],
      "text/plain": [
       "              label   pixel0   pixel1   pixel2   pixel3   pixel4   pixel5  \\\n",
       "count  42000.000000  42000.0  42000.0  42000.0  42000.0  42000.0  42000.0   \n",
       "mean       4.456643      0.0      0.0      0.0      0.0      0.0      0.0   \n",
       "std        2.887730      0.0      0.0      0.0      0.0      0.0      0.0   \n",
       "min        0.000000      0.0      0.0      0.0      0.0      0.0      0.0   \n",
       "25%        2.000000      0.0      0.0      0.0      0.0      0.0      0.0   \n",
       "50%        4.000000      0.0      0.0      0.0      0.0      0.0      0.0   \n",
       "75%        7.000000      0.0      0.0      0.0      0.0      0.0      0.0   \n",
       "max        9.000000      0.0      0.0      0.0      0.0      0.0      0.0   \n",
       "\n",
       "        pixel6   pixel7   pixel8  ...      pixel774      pixel775  \\\n",
       "count  42000.0  42000.0  42000.0  ...  42000.000000  42000.000000   \n",
       "mean       0.0      0.0      0.0  ...      0.219286      0.117095   \n",
       "std        0.0      0.0      0.0  ...      6.312890      4.633819   \n",
       "min        0.0      0.0      0.0  ...      0.000000      0.000000   \n",
       "25%        0.0      0.0      0.0  ...      0.000000      0.000000   \n",
       "50%        0.0      0.0      0.0  ...      0.000000      0.000000   \n",
       "75%        0.0      0.0      0.0  ...      0.000000      0.000000   \n",
       "max        0.0      0.0      0.0  ...    254.000000    254.000000   \n",
       "\n",
       "           pixel776     pixel777      pixel778      pixel779  pixel780  \\\n",
       "count  42000.000000  42000.00000  42000.000000  42000.000000   42000.0   \n",
       "mean       0.059024      0.02019      0.017238      0.002857       0.0   \n",
       "std        3.274488      1.75987      1.894498      0.414264       0.0   \n",
       "min        0.000000      0.00000      0.000000      0.000000       0.0   \n",
       "25%        0.000000      0.00000      0.000000      0.000000       0.0   \n",
       "50%        0.000000      0.00000      0.000000      0.000000       0.0   \n",
       "75%        0.000000      0.00000      0.000000      0.000000       0.0   \n",
       "max      253.000000    253.00000    254.000000     62.000000       0.0   \n",
       "\n",
       "       pixel781  pixel782  pixel783  \n",
       "count   42000.0   42000.0   42000.0  \n",
       "mean        0.0       0.0       0.0  \n",
       "std         0.0       0.0       0.0  \n",
       "min         0.0       0.0       0.0  \n",
       "25%         0.0       0.0       0.0  \n",
       "50%         0.0       0.0       0.0  \n",
       "75%         0.0       0.0       0.0  \n",
       "max         0.0       0.0       0.0  \n",
       "\n",
       "[8 rows x 785 columns]"
      ]
     },
     "execution_count": 11,
     "metadata": {},
     "output_type": "execute_result"
    }
   ],
   "source": [
    "data.describe()"
   ]
  },
  {
   "cell_type": "markdown",
   "id": "13126dbd-d69a-4e2f-8874-8234ae822fe0",
   "metadata": {},
   "source": [
    "## Визуализиране на данните"
   ]
  },
  {
   "cell_type": "code",
   "execution_count": 12,
   "id": "100563da-d88d-452a-8cb6-2b405ac068c4",
   "metadata": {},
   "outputs": [
    {
     "data": {
      "image/png": "[encoded data removed]",
      "text/plain": [
       "<Figure size 640x480 with 20 Axes>"
      ]
     },
     "metadata": {},
     "output_type": "display_data"
    }
   ],
   "source": [
    "# Plots a single image\n",
    "def plot_digit(row, w = 28, h = 28, labels = True):\n",
    "    if labels:\n",
    "        # the first column contains the label\n",
    "        label = row.iloc[0]\n",
    "        # The rest of columns are pixels\n",
    "        pixels = row[1:]\n",
    "    else:\n",
    "        label = ''\n",
    "        # The rest of columns are pixels\n",
    "        pixels = row[0:]\n",
    "    \n",
    "#    print(row.shape, pixels.shape)\n",
    "        \n",
    "\n",
    "    # Make those columns into a array of 8-bits pixels\n",
    "    # This array will be of 1D with length 784\n",
    "    # The pixel intensity values are integers from 0 to 255\n",
    "    pixels = 255 - np.array(pixels, dtype = 'uint8')\n",
    "\n",
    "    # Reshape the array into 28 x 28 array (2-dimensional array)\n",
    "    pixels = pixels.reshape((w, h))\n",
    "\n",
    "    # Plot\n",
    "    if labels:\n",
    "        plt.title('Label is {label}'.format(label = label))\n",
    "    plt.imshow(pixels, cmap = 'gray')\n",
    "\n",
    "\n",
    "# Plot pictures\n",
    "def plot_digits(images, size_w = 28, size_h = 28, labels = True, images_per_row = 5):\n",
    "    images_count = images.shape[0]\n",
    "    h = np.ceil(images_count / images_per_row).astype(int)\n",
    "    fig, plots = plt.subplots(h, images_per_row)\n",
    "    fig.tight_layout()\n",
    "\n",
    "    for n in range(0, images_count):\n",
    "        s = plt.subplot(h, images_per_row, n + 1)\n",
    "        s.set_xticks(())\n",
    "        s.set_yticks(())\n",
    "        plot_digit(images.iloc[n], size_w, size_h, labels)\n",
    "    plt.show()\n",
    "\n",
    "\n",
    "plot_digits(data[0:20])"
   ]
  },
  {
   "cell_type": "markdown",
   "id": "4a505a02-29cf-4306-9319-14450e270f0f",
   "metadata": {},
   "source": [
    "### Разделяме целия dataset на характерситки(features) и етикети(labels)"
   ]
  },
  {
   "cell_type": "code",
   "execution_count": 13,
   "id": "3d044000-040e-4352-8c5c-7bbd94fc8a1c",
   "metadata": {},
   "outputs": [
    {
     "data": {
      "text/plain": [
       "(42000, 784)"
      ]
     },
     "execution_count": 13,
     "metadata": {},
     "output_type": "execute_result"
    }
   ],
   "source": [
    "features = data.drop(['label'], axis='columns', inplace=False)\n",
    "features.shape"
   ]
  },
  {
   "cell_type": "code",
   "execution_count": 14,
   "id": "af46b08f-975c-4f22-a801-330003a1c11c",
   "metadata": {},
   "outputs": [
    {
     "data": {
      "text/plain": [
       "(42000,)"
      ]
     },
     "execution_count": 14,
     "metadata": {},
     "output_type": "execute_result"
    }
   ],
   "source": [
    "labels = data['label']\n",
    "labels.shape"
   ]
  },
  {
   "cell_type": "code",
   "execution_count": 15,
   "id": "f0d624c2-2edc-4a81-b729-7a1e02028253",
   "metadata": {},
   "outputs": [
    {
     "data": {
      "text/plain": [
       "array([1, 0, 4, 7, 3, 5, 8, 9, 2, 6], dtype=int64)"
      ]
     },
     "execution_count": 15,
     "metadata": {},
     "output_type": "execute_result"
    }
   ],
   "source": [
    "labels.unique()"
   ]
  },
  {
   "cell_type": "code",
   "execution_count": 17,
   "id": "e0c5df26-ebd7-426c-8711-550273295bcf",
   "metadata": {},
   "outputs": [
    {
     "data": {
      "text/plain": [
       "label\n",
       "1    4684\n",
       "7    4401\n",
       "3    4351\n",
       "9    4188\n",
       "2    4177\n",
       "6    4137\n",
       "0    4132\n",
       "4    4072\n",
       "8    4063\n",
       "5    3795\n",
       "Name: count, dtype: int64"
      ]
     },
     "execution_count": 17,
     "metadata": {},
     "output_type": "execute_result"
    }
   ],
   "source": [
    "label_counts = labels.value_counts()\n",
    "label_counts"
   ]
  },
  {
   "cell_type": "markdown",
   "id": "828e80de-f567-4b5e-861a-773ce33b7bb2",
   "metadata": {},
   "source": [
    "Етикетите са почти равномерно разпределени и са представени от сходен брой наблюдения. Няма големи неравенства. Можем да използваме метриката за точност (accuracy)."
   ]
  },
  {
   "cell_type": "markdown",
   "id": "c35f8e52-c9e8-4efe-b804-39a1c1f55dcf",
   "metadata": {},
   "source": [
    "### Метрики за измерване на производителността на модела\n",
    "Въпреки че има други начини за измерване на производителността на модела (precision, recall, F1 Score, ROC Curve и др.), ще запазим нещата прости и ще използваме accuracy като наша метрика. Accuracy е подходяща в този случай, защото различните класове са със сходен размер на примерите и изглежда, че са добре балансирани. Също така ще покажем confusion matrix за реални и предсказани етикети и classification report."
   ]
  },
  {
   "cell_type": "markdown",
   "id": "3f55558f-9a55-4f92-8620-9bc2d805faf7",
   "metadata": {},
   "source": [
    "### Намаляване на размерността\n",
    "Обикновено намаляването на размерността се използва по три основни причини: \n",
    "- помага за визуализация на данни с висока размерност и откриване на структури или модели\n",
    "- избира добри характеристики и избягва висока корелация между някои от тях, което води до следващата причина\n",
    "- ефективно обучение на моделите - по-малки размерности и по-малко характеристики означават по-кратко време за обучение\n",
    "\n",
    "В този случай ще го използваме, за да намалим броя на характеристиките с цел намаляване на времето за обучение на алгоритмите.мите."
   ]
  },
  {
   "cell_type": "markdown",
   "id": "121569ec-4cd2-4783-a130-4f7900fb52df",
   "metadata": {},
   "source": [
    "### PCA (Principal Components Analysis)\n",
    "PCA (Principal Component Analysis) е линейна техника за намаляване на размерността, която се стреми да максимизира дисперсията. \n",
    "PCA е въздействан от представянето на данните, затова трябва да скалираме характеристиките в нашите данни преди да приложим PCA. Ще използваме **MinMaxScaler**. Нашата цел е да запазим голяма част от дисперсията и в същото време да намалим броя на характеристиките. Когато по-късно оценяваме моделите, можем да се върнем на този етап и да променим баланса между запазената дисперсия и характеристиките. За начало решаваме да запазим дисперсията до **90%** и да видим резултиращото намаление на характеристиките. По-късно ще се върнем на този етап и ще тестваме избраният алгоритъм при различни комбинации."
   ]
  },
  {
   "cell_type": "code",
   "execution_count": 18,
   "id": "c31b46e3-e8ff-443f-8780-5e052ffaa334",
   "metadata": {},
   "outputs": [],
   "source": [
    "scaler = MinMaxScaler().fit(features)\n",
    "features_scaled = scaler.transform(features)\n",
    "pca_features = PCA(0.90).fit(features_scaled)"
   ]
  },
  {
   "cell_type": "code",
   "execution_count": 19,
   "id": "4dbeda4f-4646-49b4-9fc9-47943b11d60a",
   "metadata": {},
   "outputs": [],
   "source": [
    "features_scaled_pca = pca_features.transform(features_scaled)"
   ]
  },
  {
   "cell_type": "code",
   "execution_count": 20,
   "id": "9b69f8bd-3ac2-4f17-8179-fa075f2b3ec4",
   "metadata": {},
   "outputs": [
    {
     "data": {
      "text/plain": [
       "87"
      ]
     },
     "execution_count": 20,
     "metadata": {},
     "output_type": "execute_result"
    }
   ],
   "source": [
    "pca_features.n_components_"
   ]
  },
  {
   "cell_type": "code",
   "execution_count": 21,
   "id": "1ed7f1be-2c08-4593-9199-f57434e6158b",
   "metadata": {},
   "outputs": [],
   "source": [
    "explained_variance = pca_features.explained_variance_ratio_.sum()"
   ]
  },
  {
   "cell_type": "code",
   "execution_count": 22,
   "id": "dc1281ef-da94-4345-a6b0-3027d0d777e6",
   "metadata": {},
   "outputs": [
    {
     "data": {
      "text/plain": [
       "0.9005709788011417"
      ]
     },
     "execution_count": 22,
     "metadata": {},
     "output_type": "execute_result"
    }
   ],
   "source": [
    "explained_variance"
   ]
  },
  {
   "cell_type": "markdown",
   "id": "56bb3f3f-f4c9-4f7c-b000-17ee663f09bd",
   "metadata": {},
   "source": [
    "Виждаме, че сме запазили 90% от дисперсията и размерностите са били намалени на 87. Намалихме броя на характеристиките с фактор от 9."
   ]
  },
  {
   "cell_type": "markdown",
   "id": "58d116f2-f177-4136-9bb8-87c2fe6648ce",
   "metadata": {},
   "source": [
    "### Разделяме данните на обучаващи и тестови\n",
    "Разделяме набора от характеристики, върху който току-що извършихме скалиране и PCA, на 70% обучиаващи и 30% тестови. Разделяме характеристиките едновременно с етикетите."
   ]
  },
  {
   "cell_type": "code",
   "execution_count": 25,
   "id": "dbd7fcb4-f037-4c46-8cc5-7a2cf1f2d034",
   "metadata": {},
   "outputs": [],
   "source": [
    "X_tr, X_ts, y_tr, y_ts = train_test_split(features_scaled_pca, labels, test_size = 0.30)"
   ]
  },
  {
   "cell_type": "code",
   "execution_count": 26,
   "id": "6367c2d8-c40c-4589-b644-ef939787361f",
   "metadata": {},
   "outputs": [
    {
     "name": "stdout",
     "output_type": "stream",
     "text": [
      "Shape of training features: (29400, 87)\n",
      "Shape of testing features: (12600, 87)\n",
      "-------------------------------------------\n",
      "Shape of training labels: (29400,)\n",
      "Shape of testing labels: (12600,)\n"
     ]
    }
   ],
   "source": [
    "print(\"Shape of training features: \"+str(X_tr.shape))\n",
    "print(\"Shape of testing features: \"+str(X_ts.shape))\n",
    "print(\"-------------------------------------------\")\n",
    "print(\"Shape of training labels: \"+str(y_tr.shape))\n",
    "print(\"Shape of testing labels: \"+str(y_ts.shape))"
   ]
  },
  {
   "cell_type": "markdown",
   "id": "29097913-86db-4c22-a090-b893616f6c12",
   "metadata": {},
   "source": [
    "Обучаващите и тестовите характеристики и етикети изглеждат, че имат правилната форма.\n",
    "\n",
    "Ще запазим текущият тестов набор от данни, така че да можем да го запазим точно същия за бъдеща употреба, когато тестваме резултатите за запазените модели, които са били обучени с текущото разделяне на обучаващите данни."
   ]
  },
  {
   "cell_type": "code",
   "execution_count": 28,
   "id": "028cdd4e-b624-450e-8b3b-3f1be0e55a20",
   "metadata": {},
   "outputs": [
    {
     "data": {
      "text/plain": [
       "['test_set-BACKUP.sav']"
      ]
     },
     "execution_count": 28,
     "metadata": {},
     "output_type": "execute_result"
    }
   ],
   "source": [
    "test_set = {\"X\":X_ts, \"y\":y_ts}\n",
    "dump(test_set,\"test_set-BACKUP.sav\")"
   ]
  },
  {
   "cell_type": "code",
   "execution_count": 29,
   "id": "eda568d6-c2ed-433f-9cd6-c47ee3acac43",
   "metadata": {},
   "outputs": [],
   "source": [
    "# Важно\n",
    "# Разкоментирайте това, ако искате да използвате оригиналния тестов набор от данни \n",
    "# заедно със вече запазените модели, които са били обучени със същото разделяне\n",
    "# test_set_loaded = load('test_set-BACKUP.sav')\n",
    "# X_ts = test_set_loaded[\"X\"]\n",
    "# y_ts = test_set_loaded[\"y\"]"
   ]
  },
  {
   "cell_type": "markdown",
   "id": "960ba36c-7f61-49de-9871-ba8befd62b4a",
   "metadata": {},
   "source": [
    "### Избиране на алгоритми\n",
    "Използвайки cross validation с 5 фолда върху обучаващия набор с 'accuracy' като метрика, ще изберем три от най-добрите алгоритъма. Ще ги стартираме с техните настройки по подразбиране. Седемте кандидата са:\r\n",
    "* Logistic Regression\n",
    "* K-Nearest Neighbor\n",
    "* Decision Tree\n",
    "* AdaBoost\n",
    "* Random Forrest\n",
    "* Linear SVC\n",
    "* Gaussian SVC\r\n",
    "\r\n",
    "\r\n"
   ]
  },
  {
   "cell_type": "code",
   "execution_count": 30,
   "id": "2f361837-310d-45c0-a55d-81eec4429554",
   "metadata": {},
   "outputs": [],
   "source": [
    "k_fold = KFold(n_splits = 5)"
   ]
  },
  {
   "cell_type": "code",
   "execution_count": 31,
   "id": "af2d921e-0fb6-426a-b066-55bb3b573501",
   "metadata": {},
   "outputs": [
    {
     "name": "stderr",
     "output_type": "stream",
     "text": [
      "C:\\Users\\Atanas.Vasilev\\AppData\\Local\\Programs\\Python\\Python312\\Lib\\site-packages\\sklearn\\linear_model\\_logistic.py:460: ConvergenceWarning: lbfgs failed to converge (status=1):\n",
      "STOP: TOTAL NO. of ITERATIONS REACHED LIMIT.\n",
      "\n",
      "Increase the number of iterations (max_iter) or scale the data as shown in:\n",
      "    https://scikit-learn.org/stable/modules/preprocessing.html\n",
      "Please also refer to the documentation for alternative solver options:\n",
      "    https://scikit-learn.org/stable/modules/linear_model.html#logistic-regression\n",
      "  n_iter_i = _check_optimize_result(\n",
      "C:\\Users\\Atanas.Vasilev\\AppData\\Local\\Programs\\Python\\Python312\\Lib\\site-packages\\sklearn\\linear_model\\_logistic.py:460: ConvergenceWarning: lbfgs failed to converge (status=1):\n",
      "STOP: TOTAL NO. of ITERATIONS REACHED LIMIT.\n",
      "\n",
      "Increase the number of iterations (max_iter) or scale the data as shown in:\n",
      "    https://scikit-learn.org/stable/modules/preprocessing.html\n",
      "Please also refer to the documentation for alternative solver options:\n",
      "    https://scikit-learn.org/stable/modules/linear_model.html#logistic-regression\n",
      "  n_iter_i = _check_optimize_result(\n",
      "C:\\Users\\Atanas.Vasilev\\AppData\\Local\\Programs\\Python\\Python312\\Lib\\site-packages\\sklearn\\linear_model\\_logistic.py:460: ConvergenceWarning: lbfgs failed to converge (status=1):\n",
      "STOP: TOTAL NO. of ITERATIONS REACHED LIMIT.\n",
      "\n",
      "Increase the number of iterations (max_iter) or scale the data as shown in:\n",
      "    https://scikit-learn.org/stable/modules/preprocessing.html\n",
      "Please also refer to the documentation for alternative solver options:\n",
      "    https://scikit-learn.org/stable/modules/linear_model.html#logistic-regression\n",
      "  n_iter_i = _check_optimize_result(\n",
      "C:\\Users\\Atanas.Vasilev\\AppData\\Local\\Programs\\Python\\Python312\\Lib\\site-packages\\sklearn\\linear_model\\_logistic.py:460: ConvergenceWarning: lbfgs failed to converge (status=1):\n",
      "STOP: TOTAL NO. of ITERATIONS REACHED LIMIT.\n",
      "\n",
      "Increase the number of iterations (max_iter) or scale the data as shown in:\n",
      "    https://scikit-learn.org/stable/modules/preprocessing.html\n",
      "Please also refer to the documentation for alternative solver options:\n",
      "    https://scikit-learn.org/stable/modules/linear_model.html#logistic-regression\n",
      "  n_iter_i = _check_optimize_result(\n",
      "C:\\Users\\Atanas.Vasilev\\AppData\\Local\\Programs\\Python\\Python312\\Lib\\site-packages\\sklearn\\linear_model\\_logistic.py:460: ConvergenceWarning: lbfgs failed to converge (status=1):\n",
      "STOP: TOTAL NO. of ITERATIONS REACHED LIMIT.\n",
      "\n",
      "Increase the number of iterations (max_iter) or scale the data as shown in:\n",
      "    https://scikit-learn.org/stable/modules/preprocessing.html\n",
      "Please also refer to the documentation for alternative solver options:\n",
      "    https://scikit-learn.org/stable/modules/linear_model.html#logistic-regression\n",
      "  n_iter_i = _check_optimize_result(\n"
     ]
    },
    {
     "name": "stdout",
     "output_type": "stream",
     "text": [
      "LR: mean accuracy 91.398% - standard deviation 0.003034 - time 4.79165\n",
      "KNN: mean accuracy 96.711% - standard deviation 0.001421 - time 1.90334\n",
      "CART: mean accuracy 80.524% - standard deviation 0.003945 - time 48.2243\n",
      "AdaBoost: mean accuracy 65.374% - standard deviation 0.01745 - time 163.657\n",
      "RandomForrest: mean accuracy 94.207% - standard deviation 0.001191 - time 306.162\n"
     ]
    },
    {
     "name": "stderr",
     "output_type": "stream",
     "text": [
      "C:\\Users\\Atanas.Vasilev\\AppData\\Local\\Programs\\Python\\Python312\\Lib\\site-packages\\sklearn\\svm\\_classes.py:32: FutureWarning: The default value of `dual` will change from `True` to `'auto'` in 1.5. Set the value of `dual` explicitly to suppress the warning.\n",
      "  warnings.warn(\n",
      "C:\\Users\\Atanas.Vasilev\\AppData\\Local\\Programs\\Python\\Python312\\Lib\\site-packages\\sklearn\\svm\\_base.py:1250: ConvergenceWarning: Liblinear failed to converge, increase the number of iterations.\n",
      "  warnings.warn(\n",
      "C:\\Users\\Atanas.Vasilev\\AppData\\Local\\Programs\\Python\\Python312\\Lib\\site-packages\\sklearn\\svm\\_classes.py:32: FutureWarning: The default value of `dual` will change from `True` to `'auto'` in 1.5. Set the value of `dual` explicitly to suppress the warning.\n",
      "  warnings.warn(\n",
      "C:\\Users\\Atanas.Vasilev\\AppData\\Local\\Programs\\Python\\Python312\\Lib\\site-packages\\sklearn\\svm\\_base.py:1250: ConvergenceWarning: Liblinear failed to converge, increase the number of iterations.\n",
      "  warnings.warn(\n",
      "C:\\Users\\Atanas.Vasilev\\AppData\\Local\\Programs\\Python\\Python312\\Lib\\site-packages\\sklearn\\svm\\_classes.py:32: FutureWarning: The default value of `dual` will change from `True` to `'auto'` in 1.5. Set the value of `dual` explicitly to suppress the warning.\n",
      "  warnings.warn(\n",
      "C:\\Users\\Atanas.Vasilev\\AppData\\Local\\Programs\\Python\\Python312\\Lib\\site-packages\\sklearn\\svm\\_base.py:1250: ConvergenceWarning: Liblinear failed to converge, increase the number of iterations.\n",
      "  warnings.warn(\n",
      "C:\\Users\\Atanas.Vasilev\\AppData\\Local\\Programs\\Python\\Python312\\Lib\\site-packages\\sklearn\\svm\\_classes.py:32: FutureWarning: The default value of `dual` will change from `True` to `'auto'` in 1.5. Set the value of `dual` explicitly to suppress the warning.\n",
      "  warnings.warn(\n",
      "C:\\Users\\Atanas.Vasilev\\AppData\\Local\\Programs\\Python\\Python312\\Lib\\site-packages\\sklearn\\svm\\_base.py:1250: ConvergenceWarning: Liblinear failed to converge, increase the number of iterations.\n",
      "  warnings.warn(\n",
      "C:\\Users\\Atanas.Vasilev\\AppData\\Local\\Programs\\Python\\Python312\\Lib\\site-packages\\sklearn\\svm\\_classes.py:32: FutureWarning: The default value of `dual` will change from `True` to `'auto'` in 1.5. Set the value of `dual` explicitly to suppress the warning.\n",
      "  warnings.warn(\n",
      "C:\\Users\\Atanas.Vasilev\\AppData\\Local\\Programs\\Python\\Python312\\Lib\\site-packages\\sklearn\\svm\\_base.py:1250: ConvergenceWarning: Liblinear failed to converge, increase the number of iterations.\n",
      "  warnings.warn(\n"
     ]
    },
    {
     "name": "stdout",
     "output_type": "stream",
     "text": [
      "LinearSVC: mean accuracy 90.415% - standard deviation 0.003047 - time 68.7052\n",
      "GaussianSVM: mean accuracy 97.728% - standard deviation 0.0007948 - time 50.1547\n"
     ]
    }
   ],
   "source": [
    "# това отнема около 10 мин\n",
    "results = []\n",
    "names = []\n",
    "scoring = 'accuracy'\n",
    "algorithms = []\n",
    "algorithms.append((\"LR\", LogisticRegression()))\n",
    "algorithms.append((\"KNN\", KNeighborsClassifier()))\n",
    "algorithms.append((\"CART\", DecisionTreeClassifier()))\n",
    "algorithms.append((\"AdaBoost\", AdaBoostClassifier()))\n",
    "algorithms.append((\"RandomForrest\", RandomForestClassifier()))\n",
    "algorithms.append((\"LinearSVC\", LinearSVC()))\n",
    "algorithms.append((\"GaussianSVM\", SVC()))\n",
    "for name, algorithm in algorithms:\n",
    "    t0=time()   \n",
    "    cv_results = cross_val_score(algorithm, X_tr, y_tr, cv= k_fold, scoring = scoring)\n",
    "    t1 = time() - t0\n",
    "    results.append(cv_results)\n",
    "    names.append(name)\n",
    "    print(\"{0}: mean accuracy {1:.3%} - standard deviation {2:.4} - time {3:n}\".format(name, cv_results.mean(), cv_results.std(), t1))"
   ]
  },
  {
   "cell_type": "code",
   "execution_count": 32,
   "id": "e4a86d94-5f5c-44c5-a07f-16f4276a4edb",
   "metadata": {},
   "outputs": [
    {
     "data": {
      "image/png": "[encoded data removed]",
      "text/plain": [
       "<Figure size 1000x800 with 1 Axes>"
      ]
     },
     "metadata": {},
     "output_type": "display_data"
    }
   ],
   "source": [
    "fig = plt.figure(figsize=(10,8))\n",
    "fig.suptitle('Algorithm Comparison')\n",
    "ax = fig.add_subplot(111)\n",
    "plt.boxplot(results)\n",
    "ax.set_xticklabels(names)\n",
    "plt.show()"
   ]
  },
  {
   "cell_type": "markdown",
   "id": "375b10c4-48f0-4741-aefc-78abecb813e5",
   "metadata": {},
   "source": [
    "Виждаме, че 3-те най-добри алгоритъма са KNN, Random Forest и GauassianSVM. Понеже Random Forest отенаме повече време ще изберем Ligostic Regression вместо Random Forest.\n",
    "Оконачтелно избираме KNN, GauassianSVM и Logistic Regression моделите за допълнителни подобрения и тестване на различни хипермараметри. "
   ]
  },
  {
   "cell_type": "markdown",
   "id": "19038c53-a5ab-4723-a1b3-dcc166299f73",
   "metadata": {},
   "source": [
    "### Logistic Regression"
   ]
  },
  {
   "cell_type": "code",
   "execution_count": 34,
   "id": "75b9e6a5-ab2d-4036-a5a1-ec9afcaeb365",
   "metadata": {},
   "outputs": [],
   "source": [
    "# това е списъка, където ще пазим подобрените модели\n",
    "models = []"
   ]
  },
  {
   "cell_type": "code",
   "execution_count": 35,
   "id": "66fc6aea-cb50-4e1b-b33f-79b47f58363a",
   "metadata": {},
   "outputs": [
    {
     "name": "stderr",
     "output_type": "stream",
     "text": [
      "C:\\Users\\Atanas.Vasilev\\AppData\\Local\\Programs\\Python\\Python312\\Lib\\site-packages\\sklearn\\linear_model\\_logistic.py:460: ConvergenceWarning: lbfgs failed to converge (status=1):\n",
      "STOP: TOTAL NO. of ITERATIONS REACHED LIMIT.\n",
      "\n",
      "Increase the number of iterations (max_iter) or scale the data as shown in:\n",
      "    https://scikit-learn.org/stable/modules/preprocessing.html\n",
      "Please also refer to the documentation for alternative solver options:\n",
      "    https://scikit-learn.org/stable/modules/linear_model.html#logistic-regression\n",
      "  n_iter_i = _check_optimize_result(\n",
      "C:\\Users\\Atanas.Vasilev\\AppData\\Local\\Programs\\Python\\Python312\\Lib\\site-packages\\sklearn\\linear_model\\_logistic.py:460: ConvergenceWarning: lbfgs failed to converge (status=1):\n",
      "STOP: TOTAL NO. of ITERATIONS REACHED LIMIT.\n",
      "\n",
      "Increase the number of iterations (max_iter) or scale the data as shown in:\n",
      "    https://scikit-learn.org/stable/modules/preprocessing.html\n",
      "Please also refer to the documentation for alternative solver options:\n",
      "    https://scikit-learn.org/stable/modules/linear_model.html#logistic-regression\n",
      "  n_iter_i = _check_optimize_result(\n",
      "C:\\Users\\Atanas.Vasilev\\AppData\\Local\\Programs\\Python\\Python312\\Lib\\site-packages\\sklearn\\linear_model\\_logistic.py:460: ConvergenceWarning: lbfgs failed to converge (status=1):\n",
      "STOP: TOTAL NO. of ITERATIONS REACHED LIMIT.\n",
      "\n",
      "Increase the number of iterations (max_iter) or scale the data as shown in:\n",
      "    https://scikit-learn.org/stable/modules/preprocessing.html\n",
      "Please also refer to the documentation for alternative solver options:\n",
      "    https://scikit-learn.org/stable/modules/linear_model.html#logistic-regression\n",
      "  n_iter_i = _check_optimize_result(\n",
      "C:\\Users\\Atanas.Vasilev\\AppData\\Local\\Programs\\Python\\Python312\\Lib\\site-packages\\sklearn\\linear_model\\_logistic.py:460: ConvergenceWarning: lbfgs failed to converge (status=1):\n",
      "STOP: TOTAL NO. of ITERATIONS REACHED LIMIT.\n",
      "\n",
      "Increase the number of iterations (max_iter) or scale the data as shown in:\n",
      "    https://scikit-learn.org/stable/modules/preprocessing.html\n",
      "Please also refer to the documentation for alternative solver options:\n",
      "    https://scikit-learn.org/stable/modules/linear_model.html#logistic-regression\n",
      "  n_iter_i = _check_optimize_result(\n",
      "C:\\Users\\Atanas.Vasilev\\AppData\\Local\\Programs\\Python\\Python312\\Lib\\site-packages\\sklearn\\linear_model\\_logistic.py:460: ConvergenceWarning: lbfgs failed to converge (status=1):\n",
      "STOP: TOTAL NO. of ITERATIONS REACHED LIMIT.\n",
      "\n",
      "Increase the number of iterations (max_iter) or scale the data as shown in:\n",
      "    https://scikit-learn.org/stable/modules/preprocessing.html\n",
      "Please also refer to the documentation for alternative solver options:\n",
      "    https://scikit-learn.org/stable/modules/linear_model.html#logistic-regression\n",
      "  n_iter_i = _check_optimize_result(\n",
      "C:\\Users\\Atanas.Vasilev\\AppData\\Local\\Programs\\Python\\Python312\\Lib\\site-packages\\sklearn\\linear_model\\_logistic.py:460: ConvergenceWarning: lbfgs failed to converge (status=1):\n",
      "STOP: TOTAL NO. of ITERATIONS REACHED LIMIT.\n",
      "\n",
      "Increase the number of iterations (max_iter) or scale the data as shown in:\n",
      "    https://scikit-learn.org/stable/modules/preprocessing.html\n",
      "Please also refer to the documentation for alternative solver options:\n",
      "    https://scikit-learn.org/stable/modules/linear_model.html#logistic-regression\n",
      "  n_iter_i = _check_optimize_result(\n",
      "C:\\Users\\Atanas.Vasilev\\AppData\\Local\\Programs\\Python\\Python312\\Lib\\site-packages\\sklearn\\linear_model\\_logistic.py:460: ConvergenceWarning: lbfgs failed to converge (status=1):\n",
      "STOP: TOTAL NO. of ITERATIONS REACHED LIMIT.\n",
      "\n",
      "Increase the number of iterations (max_iter) or scale the data as shown in:\n",
      "    https://scikit-learn.org/stable/modules/preprocessing.html\n",
      "Please also refer to the documentation for alternative solver options:\n",
      "    https://scikit-learn.org/stable/modules/linear_model.html#logistic-regression\n",
      "  n_iter_i = _check_optimize_result(\n",
      "C:\\Users\\Atanas.Vasilev\\AppData\\Local\\Programs\\Python\\Python312\\Lib\\site-packages\\sklearn\\linear_model\\_logistic.py:460: ConvergenceWarning: lbfgs failed to converge (status=1):\n",
      "STOP: TOTAL NO. of ITERATIONS REACHED LIMIT.\n",
      "\n",
      "Increase the number of iterations (max_iter) or scale the data as shown in:\n",
      "    https://scikit-learn.org/stable/modules/preprocessing.html\n",
      "Please also refer to the documentation for alternative solver options:\n",
      "    https://scikit-learn.org/stable/modules/linear_model.html#logistic-regression\n",
      "  n_iter_i = _check_optimize_result(\n",
      "C:\\Users\\Atanas.Vasilev\\AppData\\Local\\Programs\\Python\\Python312\\Lib\\site-packages\\sklearn\\linear_model\\_logistic.py:460: ConvergenceWarning: lbfgs failed to converge (status=1):\n",
      "STOP: TOTAL NO. of ITERATIONS REACHED LIMIT.\n",
      "\n",
      "Increase the number of iterations (max_iter) or scale the data as shown in:\n",
      "    https://scikit-learn.org/stable/modules/preprocessing.html\n",
      "Please also refer to the documentation for alternative solver options:\n",
      "    https://scikit-learn.org/stable/modules/linear_model.html#logistic-regression\n",
      "  n_iter_i = _check_optimize_result(\n",
      "C:\\Users\\Atanas.Vasilev\\AppData\\Local\\Programs\\Python\\Python312\\Lib\\site-packages\\sklearn\\linear_model\\_logistic.py:460: ConvergenceWarning: lbfgs failed to converge (status=1):\n",
      "STOP: TOTAL NO. of ITERATIONS REACHED LIMIT.\n",
      "\n",
      "Increase the number of iterations (max_iter) or scale the data as shown in:\n",
      "    https://scikit-learn.org/stable/modules/preprocessing.html\n",
      "Please also refer to the documentation for alternative solver options:\n",
      "    https://scikit-learn.org/stable/modules/linear_model.html#logistic-regression\n",
      "  n_iter_i = _check_optimize_result(\n",
      "C:\\Users\\Atanas.Vasilev\\AppData\\Local\\Programs\\Python\\Python312\\Lib\\site-packages\\sklearn\\linear_model\\_logistic.py:460: ConvergenceWarning: lbfgs failed to converge (status=1):\n",
      "STOP: TOTAL NO. of ITERATIONS REACHED LIMIT.\n",
      "\n",
      "Increase the number of iterations (max_iter) or scale the data as shown in:\n",
      "    https://scikit-learn.org/stable/modules/preprocessing.html\n",
      "Please also refer to the documentation for alternative solver options:\n",
      "    https://scikit-learn.org/stable/modules/linear_model.html#logistic-regression\n",
      "  n_iter_i = _check_optimize_result(\n",
      "C:\\Users\\Atanas.Vasilev\\AppData\\Local\\Programs\\Python\\Python312\\Lib\\site-packages\\sklearn\\linear_model\\_logistic.py:460: ConvergenceWarning: lbfgs failed to converge (status=1):\n",
      "STOP: TOTAL NO. of ITERATIONS REACHED LIMIT.\n",
      "\n",
      "Increase the number of iterations (max_iter) or scale the data as shown in:\n",
      "    https://scikit-learn.org/stable/modules/preprocessing.html\n",
      "Please also refer to the documentation for alternative solver options:\n",
      "    https://scikit-learn.org/stable/modules/linear_model.html#logistic-regression\n",
      "  n_iter_i = _check_optimize_result(\n",
      "C:\\Users\\Atanas.Vasilev\\AppData\\Local\\Programs\\Python\\Python312\\Lib\\site-packages\\sklearn\\linear_model\\_logistic.py:460: ConvergenceWarning: lbfgs failed to converge (status=1):\n",
      "STOP: TOTAL NO. of ITERATIONS REACHED LIMIT.\n",
      "\n",
      "Increase the number of iterations (max_iter) or scale the data as shown in:\n",
      "    https://scikit-learn.org/stable/modules/preprocessing.html\n",
      "Please also refer to the documentation for alternative solver options:\n",
      "    https://scikit-learn.org/stable/modules/linear_model.html#logistic-regression\n",
      "  n_iter_i = _check_optimize_result(\n",
      "C:\\Users\\Atanas.Vasilev\\AppData\\Local\\Programs\\Python\\Python312\\Lib\\site-packages\\sklearn\\linear_model\\_logistic.py:460: ConvergenceWarning: lbfgs failed to converge (status=1):\n",
      "STOP: TOTAL NO. of ITERATIONS REACHED LIMIT.\n",
      "\n",
      "Increase the number of iterations (max_iter) or scale the data as shown in:\n",
      "    https://scikit-learn.org/stable/modules/preprocessing.html\n",
      "Please also refer to the documentation for alternative solver options:\n",
      "    https://scikit-learn.org/stable/modules/linear_model.html#logistic-regression\n",
      "  n_iter_i = _check_optimize_result(\n",
      "C:\\Users\\Atanas.Vasilev\\AppData\\Local\\Programs\\Python\\Python312\\Lib\\site-packages\\sklearn\\linear_model\\_logistic.py:460: ConvergenceWarning: lbfgs failed to converge (status=1):\n",
      "STOP: TOTAL NO. of ITERATIONS REACHED LIMIT.\n",
      "\n",
      "Increase the number of iterations (max_iter) or scale the data as shown in:\n",
      "    https://scikit-learn.org/stable/modules/preprocessing.html\n",
      "Please also refer to the documentation for alternative solver options:\n",
      "    https://scikit-learn.org/stable/modules/linear_model.html#logistic-regression\n",
      "  n_iter_i = _check_optimize_result(\n",
      "C:\\Users\\Atanas.Vasilev\\AppData\\Local\\Programs\\Python\\Python312\\Lib\\site-packages\\sklearn\\linear_model\\_logistic.py:460: ConvergenceWarning: lbfgs failed to converge (status=1):\n",
      "STOP: TOTAL NO. of ITERATIONS REACHED LIMIT.\n",
      "\n",
      "Increase the number of iterations (max_iter) or scale the data as shown in:\n",
      "    https://scikit-learn.org/stable/modules/preprocessing.html\n",
      "Please also refer to the documentation for alternative solver options:\n",
      "    https://scikit-learn.org/stable/modules/linear_model.html#logistic-regression\n",
      "  n_iter_i = _check_optimize_result(\n",
      "C:\\Users\\Atanas.Vasilev\\AppData\\Local\\Programs\\Python\\Python312\\Lib\\site-packages\\sklearn\\linear_model\\_logistic.py:460: ConvergenceWarning: lbfgs failed to converge (status=1):\n",
      "STOP: TOTAL NO. of ITERATIONS REACHED LIMIT.\n",
      "\n",
      "Increase the number of iterations (max_iter) or scale the data as shown in:\n",
      "    https://scikit-learn.org/stable/modules/preprocessing.html\n",
      "Please also refer to the documentation for alternative solver options:\n",
      "    https://scikit-learn.org/stable/modules/linear_model.html#logistic-regression\n",
      "  n_iter_i = _check_optimize_result(\n",
      "C:\\Users\\Atanas.Vasilev\\AppData\\Local\\Programs\\Python\\Python312\\Lib\\site-packages\\sklearn\\linear_model\\_logistic.py:460: ConvergenceWarning: lbfgs failed to converge (status=1):\n",
      "STOP: TOTAL NO. of ITERATIONS REACHED LIMIT.\n",
      "\n",
      "Increase the number of iterations (max_iter) or scale the data as shown in:\n",
      "    https://scikit-learn.org/stable/modules/preprocessing.html\n",
      "Please also refer to the documentation for alternative solver options:\n",
      "    https://scikit-learn.org/stable/modules/linear_model.html#logistic-regression\n",
      "  n_iter_i = _check_optimize_result(\n",
      "C:\\Users\\Atanas.Vasilev\\AppData\\Local\\Programs\\Python\\Python312\\Lib\\site-packages\\sklearn\\linear_model\\_logistic.py:460: ConvergenceWarning: lbfgs failed to converge (status=1):\n",
      "STOP: TOTAL NO. of ITERATIONS REACHED LIMIT.\n",
      "\n",
      "Increase the number of iterations (max_iter) or scale the data as shown in:\n",
      "    https://scikit-learn.org/stable/modules/preprocessing.html\n",
      "Please also refer to the documentation for alternative solver options:\n",
      "    https://scikit-learn.org/stable/modules/linear_model.html#logistic-regression\n",
      "  n_iter_i = _check_optimize_result(\n",
      "C:\\Users\\Atanas.Vasilev\\AppData\\Local\\Programs\\Python\\Python312\\Lib\\site-packages\\sklearn\\linear_model\\_logistic.py:460: ConvergenceWarning: lbfgs failed to converge (status=1):\n",
      "STOP: TOTAL NO. of ITERATIONS REACHED LIMIT.\n",
      "\n",
      "Increase the number of iterations (max_iter) or scale the data as shown in:\n",
      "    https://scikit-learn.org/stable/modules/preprocessing.html\n",
      "Please also refer to the documentation for alternative solver options:\n",
      "    https://scikit-learn.org/stable/modules/linear_model.html#logistic-regression\n",
      "  n_iter_i = _check_optimize_result(\n",
      "C:\\Users\\Atanas.Vasilev\\AppData\\Local\\Programs\\Python\\Python312\\Lib\\site-packages\\sklearn\\linear_model\\_logistic.py:460: ConvergenceWarning: lbfgs failed to converge (status=1):\n",
      "STOP: TOTAL NO. of ITERATIONS REACHED LIMIT.\n",
      "\n",
      "Increase the number of iterations (max_iter) or scale the data as shown in:\n",
      "    https://scikit-learn.org/stable/modules/preprocessing.html\n",
      "Please also refer to the documentation for alternative solver options:\n",
      "    https://scikit-learn.org/stable/modules/linear_model.html#logistic-regression\n",
      "  n_iter_i = _check_optimize_result(\n",
      "C:\\Users\\Atanas.Vasilev\\AppData\\Local\\Programs\\Python\\Python312\\Lib\\site-packages\\sklearn\\linear_model\\_logistic.py:460: ConvergenceWarning: lbfgs failed to converge (status=1):\n",
      "STOP: TOTAL NO. of ITERATIONS REACHED LIMIT.\n",
      "\n",
      "Increase the number of iterations (max_iter) or scale the data as shown in:\n",
      "    https://scikit-learn.org/stable/modules/preprocessing.html\n",
      "Please also refer to the documentation for alternative solver options:\n",
      "    https://scikit-learn.org/stable/modules/linear_model.html#logistic-regression\n",
      "  n_iter_i = _check_optimize_result(\n",
      "C:\\Users\\Atanas.Vasilev\\AppData\\Local\\Programs\\Python\\Python312\\Lib\\site-packages\\sklearn\\linear_model\\_logistic.py:460: ConvergenceWarning: lbfgs failed to converge (status=1):\n",
      "STOP: TOTAL NO. of ITERATIONS REACHED LIMIT.\n",
      "\n",
      "Increase the number of iterations (max_iter) or scale the data as shown in:\n",
      "    https://scikit-learn.org/stable/modules/preprocessing.html\n",
      "Please also refer to the documentation for alternative solver options:\n",
      "    https://scikit-learn.org/stable/modules/linear_model.html#logistic-regression\n",
      "  n_iter_i = _check_optimize_result(\n",
      "C:\\Users\\Atanas.Vasilev\\AppData\\Local\\Programs\\Python\\Python312\\Lib\\site-packages\\sklearn\\linear_model\\_logistic.py:460: ConvergenceWarning: lbfgs failed to converge (status=1):\n",
      "STOP: TOTAL NO. of ITERATIONS REACHED LIMIT.\n",
      "\n",
      "Increase the number of iterations (max_iter) or scale the data as shown in:\n",
      "    https://scikit-learn.org/stable/modules/preprocessing.html\n",
      "Please also refer to the documentation for alternative solver options:\n",
      "    https://scikit-learn.org/stable/modules/linear_model.html#logistic-regression\n",
      "  n_iter_i = _check_optimize_result(\n",
      "C:\\Users\\Atanas.Vasilev\\AppData\\Local\\Programs\\Python\\Python312\\Lib\\site-packages\\sklearn\\linear_model\\_logistic.py:460: ConvergenceWarning: lbfgs failed to converge (status=1):\n",
      "STOP: TOTAL NO. of ITERATIONS REACHED LIMIT.\n",
      "\n",
      "Increase the number of iterations (max_iter) or scale the data as shown in:\n",
      "    https://scikit-learn.org/stable/modules/preprocessing.html\n",
      "Please also refer to the documentation for alternative solver options:\n",
      "    https://scikit-learn.org/stable/modules/linear_model.html#logistic-regression\n",
      "  n_iter_i = _check_optimize_result(\n",
      "C:\\Users\\Atanas.Vasilev\\AppData\\Local\\Programs\\Python\\Python312\\Lib\\site-packages\\sklearn\\linear_model\\_logistic.py:460: ConvergenceWarning: lbfgs failed to converge (status=1):\n",
      "STOP: TOTAL NO. of ITERATIONS REACHED LIMIT.\n",
      "\n",
      "Increase the number of iterations (max_iter) or scale the data as shown in:\n",
      "    https://scikit-learn.org/stable/modules/preprocessing.html\n",
      "Please also refer to the documentation for alternative solver options:\n",
      "    https://scikit-learn.org/stable/modules/linear_model.html#logistic-regression\n",
      "  n_iter_i = _check_optimize_result(\n"
     ]
    }
   ],
   "source": [
    "model = LogisticRegression()\n",
    "parameters_grid = [{\n",
    "    \"C\": [ 1, 10, 100, 1000, 10000],\n",
    "    \"solver\": ['lbfgs','liblinear']\n",
    "}]\n",
    "model_fit = fit_model(model, parameters_grid, k_fold)"
   ]
  },
  {
   "cell_type": "code",
   "execution_count": null,
   "id": "59d14a6e-3378-45d1-90ce-adc02c3edab1",
   "metadata": {},
   "outputs": [],
   "source": [
    "# разкоментирай долния ред код, ако не искаш да чакаш тренирането на LogisticRegression модела\n",
    "# model_fit = load(\"LogisticRegression-BACKUP.sav\")"
   ]
  },
  {
   "cell_type": "code",
   "execution_count": 36,
   "id": "5d186b96-5977-40a5-acab-15165bbf18f7",
   "metadata": {},
   "outputs": [
    {
     "data": {
      "text/plain": [
       "{'model': 'LogisticRegression',\n",
       " 'number_of_observations_training': 29400,\n",
       " 'number_features_training': 87,\n",
       " 'explained_variance_after_pca': 0.9005709788011417,\n",
       " 'best_estimator': LogisticRegression(C=100),\n",
       " 'best_params': {'C': 100, 'solver': 'lbfgs'},\n",
       " 'best_score': 0.9143197278911565,\n",
       " 'time_sec': 263.3169934749603}"
      ]
     },
     "execution_count": 36,
     "metadata": {},
     "output_type": "execute_result"
    }
   ],
   "source": [
    "model_fit"
   ]
  },
  {
   "cell_type": "code",
   "execution_count": 37,
   "id": "a3176c04-1c30-41de-b56b-0c7361a45617",
   "metadata": {},
   "outputs": [
    {
     "name": "stdout",
     "output_type": "stream",
     "text": [
      "Mean cross-validated score of the best_estimator 91.432%\n"
     ]
    }
   ],
   "source": [
    "print(\"Mean cross-validated score of the best_estimator {0:.3%}\".format(model_fit[\"best_score\"]))"
   ]
  },
  {
   "cell_type": "markdown",
   "id": "8fd37a89-50b9-4d64-9aa5-5a690aa5deee",
   "metadata": {},
   "source": [
    "Добре, оценката от крос валидацията не се повиши толкова много. Сега ще видим резултата на модела с тестовия набор от данни."
   ]
  },
  {
   "cell_type": "code",
   "execution_count": 38,
   "id": "708f9215-8449-466b-b3e2-d94694b4351a",
   "metadata": {},
   "outputs": [
    {
     "name": "stdout",
     "output_type": "stream",
     "text": [
      "Test score 91.524%\n"
     ]
    }
   ],
   "source": [
    "best_model = model_fit['best_estimator']\n",
    "score = best_model.score(X_ts, y_ts)\n",
    "print(\"Test score {0:.3%}\".format(score))"
   ]
  },
  {
   "cell_type": "markdown",
   "id": "1eebfaf1-5f08-422e-9bc1-7cf2c113bdc2",
   "metadata": {},
   "source": [
    "Тестовата оценка е добра върху данни, които никога преди не са били видяни, което означава, че моделът обобщава добре. Ще добавим тестовата оценка към нашия речник с информация за моделите, където съхраняваме информацията за моделите."
   ]
  },
  {
   "cell_type": "code",
   "execution_count": 40,
   "id": "43f6a779-8542-4644-ac88-715abe9b24d8",
   "metadata": {},
   "outputs": [],
   "source": [
    "model_fit[\"test_score\"] = score"
   ]
  },
  {
   "cell_type": "markdown",
   "id": "12008150-d4f8-44b4-b222-4a01ae8de269",
   "metadata": {},
   "source": [
    "Да разгледаме confusion matrix, за да видим каква е класификацията."
   ]
  },
  {
   "cell_type": "code",
   "execution_count": 41,
   "id": "3f925e0c-8952-496b-9588-0ed3e32837c5",
   "metadata": {},
   "outputs": [
    {
     "data": {
      "image/png": "[encoded data removed]",
      "text/plain": [
       "<Figure size 900x900 with 2 Axes>"
      ]
     },
     "metadata": {},
     "output_type": "display_data"
    }
   ],
   "source": [
    "predictions = best_model.predict(X_ts)\n",
    "draw_confusion_marix(y_ts, predictions, score)"
   ]
  },
  {
   "cell_type": "code",
   "execution_count": 42,
   "id": "c29470c7-5767-4f3d-b489-eb13a14d7308",
   "metadata": {},
   "outputs": [
    {
     "name": "stdout",
     "output_type": "stream",
     "text": [
      "              precision    recall  f1-score   support\n",
      "\n",
      "           0       0.95      0.97      0.96      1208\n",
      "           1       0.96      0.97      0.96      1397\n",
      "           2       0.92      0.90      0.91      1250\n",
      "           3       0.89      0.89      0.89      1305\n",
      "           4       0.92      0.92      0.92      1227\n",
      "           5       0.86      0.85      0.85      1156\n",
      "           6       0.94      0.95      0.94      1245\n",
      "           7       0.92      0.92      0.92      1333\n",
      "           8       0.89      0.87      0.88      1231\n",
      "           9       0.89      0.89      0.89      1248\n",
      "\n",
      "    accuracy                           0.92     12600\n",
      "   macro avg       0.91      0.91      0.91     12600\n",
      "weighted avg       0.91      0.92      0.92     12600\n",
      "\n"
     ]
    }
   ],
   "source": [
    "print(classification_report(y_ts, predictions))"
   ]
  },
  {
   "cell_type": "code",
   "execution_count": 47,
   "id": "624de6bf-1199-4de7-a403-76787a969621",
   "metadata": {},
   "outputs": [],
   "source": [
    "# запазване на модела в текущата директория и запазване на ексел файл с параметрите на модела\n",
    "persist_data(models, model_fit)"
   ]
  },
  {
   "cell_type": "markdown",
   "id": "72e57f05-5607-4132-8c12-5235da3d8361",
   "metadata": {},
   "source": [
    "### Gaussian SVM"
   ]
  },
  {
   "cell_type": "code",
   "execution_count": null,
   "id": "5064c1cc-41e6-4d95-af27-611fac27ca26",
   "metadata": {},
   "outputs": [],
   "source": [
    "model = SVC(cache_size=1000)\n",
    "parameters_grid = [{\n",
    "    \"C\": [5, 10, 20],\n",
    "    \"gamma\": [0.01, 0.05, 0.1]\n",
    "}]\n",
    "model_fit = fit_model(model, parameters_grid, k_fold)"
   ]
  }
 ],
 "metadata": {
  "kernelspec": {
   "display_name": "Python 3 (ipykernel)",
   "language": "python",
   "name": "python3"
  },
  "language_info": {
   "codemirror_mode": {
    "name": "ipython",
    "version": 3
   },
   "file_extension": ".py",
   "mimetype": "text/x-python",
   "name": "python",
   "nbconvert_exporter": "python",
   "pygments_lexer": "ipython3",
   "version": "3.12.1"
  }
 },
 "nbformat": 4,
 "nbformat_minor": 5
}
